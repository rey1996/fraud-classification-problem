{
  "cells": [
    {
      "cell_type": "code",
      "execution_count": null,
      "metadata": {
        "id": "Pr4D42jH-3xV"
      },
      "outputs": [],
      "source": [
        "from xmlrpc.client import boolean\n",
        "import pandas as pd\n",
        "import matplotlib.pyplot as plt\n",
        "from sklearn.model_selection import train_test_split\n",
        "from imblearn.over_sampling import SMOTE"
      ]
    },
    {
      "cell_type": "code",
      "execution_count": null,
      "metadata": {
        "colab": {
          "base_uri": "https://localhost:8080/"
        },
        "id": "3DkWY5Ag-3xa",
        "outputId": "ddda8e70-c6ff-4773-f7a7-c0897f68d55d"
      },
      "outputs": [
        {
          "output_type": "stream",
          "name": "stdout",
          "text": [
            "   distance_from_home  distance_from_last_transaction  \\\n",
            "0           57.877857                        0.311140   \n",
            "1           10.829943                        0.175592   \n",
            "2            5.091079                        0.805153   \n",
            "3            2.247564                        5.600044   \n",
            "4           44.190936                        0.566486   \n",
            "\n",
            "   ratio_to_median_purchase_price  repeat_retailer  used_chip  \\\n",
            "0                        1.945940              1.0        1.0   \n",
            "1                        1.294219              1.0        0.0   \n",
            "2                        0.427715              1.0        0.0   \n",
            "3                        0.362663              1.0        1.0   \n",
            "4                        2.222767              1.0        1.0   \n",
            "\n",
            "   used_pin_number  online_order  fraud  \n",
            "0              0.0           0.0    0.0  \n",
            "1              0.0           0.0    0.0  \n",
            "2              0.0           1.0    0.0  \n",
            "3              0.0           1.0    0.0  \n",
            "4              0.0           1.0    0.0  \n",
            "(1000000, 8)\n",
            "<bound method DataFrame.info of         distance_from_home  distance_from_last_transaction  \\\n",
            "0                57.877857                        0.311140   \n",
            "1                10.829943                        0.175592   \n",
            "2                 5.091079                        0.805153   \n",
            "3                 2.247564                        5.600044   \n",
            "4                44.190936                        0.566486   \n",
            "...                    ...                             ...   \n",
            "999995            2.207101                        0.112651   \n",
            "999996           19.872726                        2.683904   \n",
            "999997            2.914857                        1.472687   \n",
            "999998            4.258729                        0.242023   \n",
            "999999           58.108125                        0.318110   \n",
            "\n",
            "        ratio_to_median_purchase_price  repeat_retailer  used_chip  \\\n",
            "0                             1.945940              1.0        1.0   \n",
            "1                             1.294219              1.0        0.0   \n",
            "2                             0.427715              1.0        0.0   \n",
            "3                             0.362663              1.0        1.0   \n",
            "4                             2.222767              1.0        1.0   \n",
            "...                                ...              ...        ...   \n",
            "999995                        1.626798              1.0        1.0   \n",
            "999996                        2.778303              1.0        1.0   \n",
            "999997                        0.218075              1.0        1.0   \n",
            "999998                        0.475822              1.0        0.0   \n",
            "999999                        0.386920              1.0        1.0   \n",
            "\n",
            "        used_pin_number  online_order  fraud  \n",
            "0                   0.0           0.0    0.0  \n",
            "1                   0.0           0.0    0.0  \n",
            "2                   0.0           1.0    0.0  \n",
            "3                   0.0           1.0    0.0  \n",
            "4                   0.0           1.0    0.0  \n",
            "...                 ...           ...    ...  \n",
            "999995              0.0           0.0    0.0  \n",
            "999996              0.0           0.0    0.0  \n",
            "999997              0.0           1.0    0.0  \n",
            "999998              0.0           1.0    0.0  \n",
            "999999              0.0           1.0    0.0  \n",
            "\n",
            "[1000000 rows x 8 columns]>\n",
            "distance_from_home                float64\n",
            "distance_from_last_transaction    float64\n",
            "ratio_to_median_purchase_price    float64\n",
            "repeat_retailer                   float64\n",
            "used_chip                         float64\n",
            "used_pin_number                   float64\n",
            "online_order                      float64\n",
            "fraud                             float64\n",
            "dtype: object\n"
          ]
        }
      ],
      "source": [
        "transaction_data=pd.read_csv('card_transdata.csv')\n",
        "print(transaction_data.head())\n",
        "print(transaction_data.shape)\n",
        "print(transaction_data.info)\n",
        "print(transaction_data.dtypes)"
      ]
    },
    {
      "cell_type": "code",
      "execution_count": null,
      "metadata": {
        "colab": {
          "base_uri": "https://localhost:8080/"
        },
        "id": "MtgaBF1N-3xd",
        "outputId": "822c429e-b5f1-4fcc-c281-3b50a947e598"
      },
      "outputs": [
        {
          "output_type": "stream",
          "name": "stdout",
          "text": [
            "0.0    912597\n",
            "1.0     87403\n",
            "Name: fraud, dtype: int64\n"
          ]
        }
      ],
      "source": [
        "print(transaction_data.fraud.value_counts())"
      ]
    },
    {
      "cell_type": "markdown",
      "metadata": {
        "id": "F3U4pqs--3xf"
      },
      "source": [
        "el dataset es altamente imbalanceado"
      ]
    },
    {
      "cell_type": "markdown",
      "metadata": {
        "id": "qhe0Rorb-3xi"
      },
      "source": [
        "dar formato adecuado a las columnas del dataset"
      ]
    },
    {
      "cell_type": "code",
      "execution_count": null,
      "metadata": {
        "id": "npg0t36j-3xj"
      },
      "outputs": [],
      "source": [
        "transaction_data.fraud=transaction_data['fraud'].astype(boolean)\n",
        "transaction_data.repeat_retailer=transaction_data['repeat_retailer'].astype(boolean)\n",
        "transaction_data.used_chip=transaction_data['used_chip'].astype(boolean)\n",
        "transaction_data.used_pin_number=transaction_data['used_pin_number'].astype(boolean)\n",
        "transaction_data.online_order=transaction_data['online_order'].astype(boolean)"
      ]
    },
    {
      "cell_type": "markdown",
      "metadata": {
        "id": "6VeBowQ2-3xm"
      },
      "source": [
        "separar las variables independientes de las dependientes"
      ]
    },
    {
      "cell_type": "code",
      "execution_count": null,
      "metadata": {
        "id": "3pVylNot-3xn"
      },
      "outputs": [],
      "source": [
        "X=transaction_data.drop(['fraud'],axis=1)\n",
        "y=transaction_data['fraud']"
      ]
    },
    {
      "cell_type": "markdown",
      "metadata": {
        "id": "gI-7fjsH-3xp"
      },
      "source": [
        "separar los datos de entrenamiento de los de prueba, dejando para estos el 10% del total"
      ]
    },
    {
      "cell_type": "code",
      "execution_count": null,
      "metadata": {
        "id": "iMtzjTri-3xq"
      },
      "outputs": [],
      "source": [
        "X_train, X_test, y_train, y_test = train_test_split(X, y, test_size=0.10, random_state=27, shuffle=False, stratify=None)"
      ]
    },
    {
      "cell_type": "markdown",
      "metadata": {
        "id": "dYIRHEw0-3xs"
      },
      "source": [
        "debido a que el dataset es imbalanceado se procede a repoblar los datos de entrenamiento con datos sintéticos"
      ]
    },
    {
      "cell_type": "code",
      "execution_count": null,
      "metadata": {
        "id": "LxXIltwx-3xs"
      },
      "outputs": [],
      "source": [
        "sm = SMOTE(random_state=2)\n",
        "X_train, y_train = sm.fit_resample(X_train, y_train)"
      ]
    },
    {
      "cell_type": "markdown",
      "metadata": {
        "id": "0eJEirhw-3xt"
      },
      "source": [
        "entrenamiento de un modelo SGDClassifier"
      ]
    },
    {
      "cell_type": "code",
      "execution_count": null,
      "metadata": {
        "id": "SwJ7FPi1-3xv"
      },
      "outputs": [],
      "source": [
        "from sklearn.linear_model import SGDClassifier\n",
        "from sklearn.pipeline import make_pipeline\n",
        "from sklearn.preprocessing import StandardScaler\n",
        "\n",
        "classifier = SGDClassifier(max_iter=1000, tol=1e-3)"
      ]
    },
    {
      "cell_type": "code",
      "execution_count": null,
      "metadata": {
        "id": "UcHH73fL-3xv"
      },
      "outputs": [],
      "source": [
        "classifier.fit(X_train, y_train)\n",
        "predictions = classifier.predict(X_test)"
      ]
    },
    {
      "cell_type": "code",
      "execution_count": null,
      "metadata": {
        "colab": {
          "base_uri": "https://localhost:8080/",
          "height": 703
        },
        "id": "va_jgfmU-3xw",
        "outputId": "543fbfd4-2de0-4e1d-89d8-4fc946bd05e1"
      },
      "outputs": [
        {
          "output_type": "stream",
          "name": "stdout",
          "text": [
            "              precision    recall  f1-score   support\n",
            "\n",
            "       False       0.99      0.94      0.97     91398\n",
            "        True       0.61      0.94      0.74      8602\n",
            "\n",
            "    accuracy                           0.94    100000\n",
            "   macro avg       0.80      0.94      0.86    100000\n",
            "weighted avg       0.96      0.94      0.95    100000\n",
            "\n",
            "Accuracy  0.94383\n",
            "Precision  0.6128885863399137\n",
            "[[86280  5118]\n",
            " [  499  8103]]\n",
            "0.9429966929413716\n"
          ]
        },
        {
          "output_type": "display_data",
          "data": {
            "text/plain": [
              "<Figure size 640x480 with 1 Axes>"
            ],
            "image/png": "[encoded data removed]"
          },
          "metadata": {}
        }
      ],
      "source": [
        "from sklearn.metrics import classification_report, accuracy_score, confusion_matrix, roc_auc_score, roc_curve, precision_score\n",
        "print(classification_report(y_test,predictions ))\n",
        "print(f'Accuracy ', accuracy_score(y_test, predictions ))\n",
        "print(f'Precision ' , precision_score(y_test, predictions))\n",
        "print(confusion_matrix(y_test,predictions))\n",
        "print(roc_auc_score(y_test, predictions))\n",
        "fpr, tpr, thresholds = roc_curve(y_test,predictions)\n",
        "plt.plot(fpr, tpr)\n",
        "plt.xlabel('False Positive Rate')\n",
        "plt.ylabel('True Positive Rate')\n",
        "plt.show()"
      ]
    },
    {
      "cell_type": "markdown",
      "metadata": {
        "id": "4GbbteIb-3xx"
      },
      "source": [
        "el modelo arroja excelentes resultados en todas las mediciones usadas."
      ]
    }
  ],
  "metadata": {
    "interpreter": {
      "hash": "9338e2ca9a734c081f23b4e71ac85d14fa26e2b3465f562b438ce79a2571bec3"
    },
    "kernelspec": {
      "display_name": "Python 3.11.4 64-bit",
      "language": "python",
      "name": "python3"
    },
    "language_info": {
      "codemirror_mode": {
        "name": "ipython",
        "version": 3
      },
      "file_extension": ".py",
      "mimetype": "text/x-python",
      "name": "python",
      "nbconvert_exporter": "python",
      "pygments_lexer": "ipython3",
      "version": "3.11.4"
    },
    "orig_nbformat": 4,
    "colab": {
      "provenance": []
    }
  },
  "nbformat": 4,
  "nbformat_minor": 0
}